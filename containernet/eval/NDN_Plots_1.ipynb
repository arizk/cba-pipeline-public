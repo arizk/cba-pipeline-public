{
 "cells": [
  {
   "cell_type": "code",
   "execution_count": null,
   "metadata": {},
   "outputs": [],
   "source": []
  },
  {
   "cell_type": "code",
   "execution_count": 1,
   "metadata": {},
   "outputs": [
    {
     "data": {
      "application/vnd.jupyter.widget-view+json": {
       "model_id": "e9d7023e07254a8798dd2a7a90830e9b",
       "version_major": 2,
       "version_minor": 0
      },
      "text/plain": [
       "FigureCanvasNbAgg()"
      ]
     },
     "metadata": {},
     "output_type": "display_data"
    }
   ],
   "source": [
    "%matplotlib ipympl\n",
    "import matplotlib as plt\n",
    "import sys\n",
    "sys.path.append('../../plotting')\n",
    "from plotlib import * \n",
    "import numpy as np\n",
    "import pandas as pd\n",
    "import matplotlib\n",
    "import glob\n",
    "from math import sqrt\n",
    "SPINE_COLOR = 'gray'\n",
    "PATH = './../NDN/results/client2/2017112709:25:46_log'\n",
    "import os\n",
    "script = \"./../NDN/Extract_KPIs.sh\"\n",
    "data = {}\n"
   ]
  },
  {
   "cell_type": "code",
   "execution_count": 2,
   "metadata": {},
   "outputs": [],
   "source": [
    "def read_trace_file_url(trace_file_url):\n",
    "    colnames = ['Timestamp','Increasingtime','GPS_1','GPS_2', 'bytes', 'elapsed_ms']\n",
    "    data = pd.read_csv(trace_file_url, names=colnames, delim_whitespace=True)\n",
    "    data['bitrate'] = data.bytes * 8 /  (data.elapsed_ms * 1000 )# mbit/s\n",
    "    data['Increasingtime'] = (data['Increasingtime'] - data['Increasingtime'][0]) / 1000 - 288\n",
    "    data.Timestamp = pd.to_datetime(data.Timestamp)\n",
    "    return(data)\n"
   ]
  },
  {
   "cell_type": "markdown",
   "metadata": {},
   "source": [
    "# Chunk Bitrate Plots"
   ]
  },
  {
   "cell_type": "code",
   "execution_count": 63,
   "metadata": {},
   "outputs": [
    {
     "data": {
      "application/vnd.jupyter.widget-view+json": {
       "model_id": "3f282751fc774579a007fbf475ba48cb",
       "version_major": 2,
       "version_minor": 0
      },
      "text/plain": [
       "FigureCanvasNbAgg()"
      ]
     },
     "metadata": {},
     "output_type": "display_data"
    },
    {
     "name": "stdout",
     "output_type": "stream",
     "text": [
      "./results/client1/2017.12.22-14:41-bolasequential_log\n",
      "./results/client1/2017.12.22-14:41-bolasequential_log\n",
      "./results/client1\n",
      "./results/client1/2017.12.22-14:41-bolasequential_log\n"
     ]
    },
    {
     "data": {
      "text/html": [
       "<div>\n",
       "<style scoped>\n",
       "    .dataframe tbody tr th:only-of-type {\n",
       "        vertical-align: middle;\n",
       "    }\n",
       "\n",
       "    .dataframe tbody tr th {\n",
       "        vertical-align: top;\n",
       "    }\n",
       "\n",
       "    .dataframe thead th {\n",
       "        text-align: right;\n",
       "    }\n",
       "</style>\n",
       "<table border=\"1\" class=\"dataframe\">\n",
       "  <thead>\n",
       "    <tr style=\"text-align: right;\">\n",
       "      <th></th>\n",
       "      <th>secondsoffset</th>\n",
       "      <th>chunkThroughput</th>\n",
       "    </tr>\n",
       "  </thead>\n",
       "  <tbody>\n",
       "    <tr>\n",
       "      <th>55627</th>\n",
       "      <td>270.979067</td>\n",
       "      <td>0.890100</td>\n",
       "    </tr>\n",
       "    <tr>\n",
       "      <th>24306</th>\n",
       "      <td>99.620057</td>\n",
       "      <td>2.157914</td>\n",
       "    </tr>\n",
       "    <tr>\n",
       "      <th>50898</th>\n",
       "      <td>252.725864</td>\n",
       "      <td>1.809231</td>\n",
       "    </tr>\n",
       "    <tr>\n",
       "      <th>39887</th>\n",
       "      <td>198.670519</td>\n",
       "      <td>3.714735</td>\n",
       "    </tr>\n",
       "    <tr>\n",
       "      <th>15861</th>\n",
       "      <td>64.554532</td>\n",
       "      <td>0.000006</td>\n",
       "    </tr>\n",
       "  </tbody>\n",
       "</table>\n",
       "</div>"
      ],
      "text/plain": [
       "       secondsoffset  chunkThroughput\n",
       "55627     270.979067         0.890100\n",
       "24306      99.620057         2.157914\n",
       "50898     252.725864         1.809231\n",
       "39887     198.670519         3.714735\n",
       "15861      64.554532         0.000006"
      ]
     },
     "metadata": {},
     "output_type": "display_data"
    },
    {
     "name": "stderr",
     "output_type": "stream",
     "text": [
      "/opt/conda/lib/python3.6/site-packages/pandas/io/parsers.py:677: UserWarning: Duplicate names specified. This will raise an error in the future.\n",
      "  return _read(filepath_or_buffer, kwds)\n"
     ]
    },
    {
     "name": "stdout",
     "output_type": "stream",
     "text": [
      "./results/client2/2017.12.22-14:41-bolasequential_log\n",
      "./results/client2/2017.12.22-14:41-bolasequential_log\n",
      "./results/client2\n",
      "./results/client2/2017.12.22-14:41-bolasequential_log\n"
     ]
    },
    {
     "data": {
      "text/html": [
       "<div>\n",
       "<style scoped>\n",
       "    .dataframe tbody tr th:only-of-type {\n",
       "        vertical-align: middle;\n",
       "    }\n",
       "\n",
       "    .dataframe tbody tr th {\n",
       "        vertical-align: top;\n",
       "    }\n",
       "\n",
       "    .dataframe thead th {\n",
       "        text-align: right;\n",
       "    }\n",
       "</style>\n",
       "<table border=\"1\" class=\"dataframe\">\n",
       "  <thead>\n",
       "    <tr style=\"text-align: right;\">\n",
       "      <th></th>\n",
       "      <th>secondsoffset</th>\n",
       "      <th>chunkThroughput</th>\n",
       "    </tr>\n",
       "  </thead>\n",
       "  <tbody>\n",
       "    <tr>\n",
       "      <th>44755</th>\n",
       "      <td>250.280564</td>\n",
       "      <td>2.228117</td>\n",
       "    </tr>\n",
       "    <tr>\n",
       "      <th>12849</th>\n",
       "      <td>57.525033</td>\n",
       "      <td>4.766438</td>\n",
       "    </tr>\n",
       "    <tr>\n",
       "      <th>44666</th>\n",
       "      <td>249.800062</td>\n",
       "      <td>4.490263</td>\n",
       "    </tr>\n",
       "    <tr>\n",
       "      <th>7734</th>\n",
       "      <td>34.430725</td>\n",
       "      <td>2.064652</td>\n",
       "    </tr>\n",
       "    <tr>\n",
       "      <th>2372</th>\n",
       "      <td>10.690680</td>\n",
       "      <td>4.560777</td>\n",
       "    </tr>\n",
       "  </tbody>\n",
       "</table>\n",
       "</div>"
      ],
      "text/plain": [
       "       secondsoffset  chunkThroughput\n",
       "44755     250.280564         2.228117\n",
       "12849      57.525033         4.766438\n",
       "44666     249.800062         4.490263\n",
       "7734       34.430725         2.064652\n",
       "2372       10.690680         4.560777"
      ]
     },
     "metadata": {},
     "output_type": "display_data"
    },
    {
     "name": "stdout",
     "output_type": "stream",
     "text": [
      "./results/client1/2017.12.21-11:15-pandasequential_log\n",
      "./results/client1/2017.12.21-11:15-pandasequential_log\n",
      "./results/client1\n",
      "./results/client1/2017.12.21-11:15-pandasequential_log\n"
     ]
    },
    {
     "data": {
      "text/html": [
       "<div>\n",
       "<style scoped>\n",
       "    .dataframe tbody tr th:only-of-type {\n",
       "        vertical-align: middle;\n",
       "    }\n",
       "\n",
       "    .dataframe tbody tr th {\n",
       "        vertical-align: top;\n",
       "    }\n",
       "\n",
       "    .dataframe thead th {\n",
       "        text-align: right;\n",
       "    }\n",
       "</style>\n",
       "<table border=\"1\" class=\"dataframe\">\n",
       "  <thead>\n",
       "    <tr style=\"text-align: right;\">\n",
       "      <th></th>\n",
       "      <th>secondsoffset</th>\n",
       "      <th>chunkThroughput</th>\n",
       "    </tr>\n",
       "  </thead>\n",
       "  <tbody>\n",
       "    <tr>\n",
       "      <th>31743</th>\n",
       "      <td>177.141803</td>\n",
       "      <td>2.534944</td>\n",
       "    </tr>\n",
       "    <tr>\n",
       "      <th>31316</th>\n",
       "      <td>174.578560</td>\n",
       "      <td>1.543878</td>\n",
       "    </tr>\n",
       "    <tr>\n",
       "      <th>17058</th>\n",
       "      <td>77.777918</td>\n",
       "      <td>4.964935</td>\n",
       "    </tr>\n",
       "    <tr>\n",
       "      <th>32740</th>\n",
       "      <td>183.514857</td>\n",
       "      <td>3.276275</td>\n",
       "    </tr>\n",
       "    <tr>\n",
       "      <th>30753</th>\n",
       "      <td>171.018061</td>\n",
       "      <td>3.269894</td>\n",
       "    </tr>\n",
       "  </tbody>\n",
       "</table>\n",
       "</div>"
      ],
      "text/plain": [
       "       secondsoffset  chunkThroughput\n",
       "31743     177.141803         2.534944\n",
       "31316     174.578560         1.543878\n",
       "17058      77.777918         4.964935\n",
       "32740     183.514857         3.276275\n",
       "30753     171.018061         3.269894"
      ]
     },
     "metadata": {},
     "output_type": "display_data"
    },
    {
     "name": "stdout",
     "output_type": "stream",
     "text": [
      "./results/client2/2017.12.21-11:15-pandasequential_log\n",
      "./results/client2/2017.12.21-11:15-pandasequential_log\n",
      "./results/client2\n",
      "./results/client2/2017.12.21-11:15-pandasequential_log\n"
     ]
    },
    {
     "data": {
      "text/html": [
       "<div>\n",
       "<style scoped>\n",
       "    .dataframe tbody tr th:only-of-type {\n",
       "        vertical-align: middle;\n",
       "    }\n",
       "\n",
       "    .dataframe tbody tr th {\n",
       "        vertical-align: top;\n",
       "    }\n",
       "\n",
       "    .dataframe thead th {\n",
       "        text-align: right;\n",
       "    }\n",
       "</style>\n",
       "<table border=\"1\" class=\"dataframe\">\n",
       "  <thead>\n",
       "    <tr style=\"text-align: right;\">\n",
       "      <th></th>\n",
       "      <th>secondsoffset</th>\n",
       "      <th>chunkThroughput</th>\n",
       "    </tr>\n",
       "  </thead>\n",
       "  <tbody>\n",
       "    <tr>\n",
       "      <th>51338</th>\n",
       "      <td>265.616650</td>\n",
       "      <td>4.402544</td>\n",
       "    </tr>\n",
       "    <tr>\n",
       "      <th>6634</th>\n",
       "      <td>29.118984</td>\n",
       "      <td>3.814225</td>\n",
       "    </tr>\n",
       "    <tr>\n",
       "      <th>8680</th>\n",
       "      <td>37.776617</td>\n",
       "      <td>4.466388</td>\n",
       "    </tr>\n",
       "    <tr>\n",
       "      <th>51571</th>\n",
       "      <td>267.029453</td>\n",
       "      <td>1.467249</td>\n",
       "    </tr>\n",
       "    <tr>\n",
       "      <th>53100</th>\n",
       "      <td>274.879669</td>\n",
       "      <td>4.679666</td>\n",
       "    </tr>\n",
       "  </tbody>\n",
       "</table>\n",
       "</div>"
      ],
      "text/plain": [
       "       secondsoffset  chunkThroughput\n",
       "51338     265.616650         4.402544\n",
       "6634       29.118984         3.814225\n",
       "8680       37.776617         4.466388\n",
       "51571     267.029453         1.467249\n",
       "53100     274.879669         4.679666"
      ]
     },
     "metadata": {},
     "output_type": "display_data"
    },
    {
     "name": "stdout",
     "output_type": "stream",
     "text": [
      "./results/client1/2017.12.21-09:04-psequential_log\n",
      "./results/client1/2017.12.21-09:04-psequential_log\n",
      "./results/client1\n",
      "./results/client1/2017.12.21-09:04-psequential_log\n"
     ]
    },
    {
     "data": {
      "text/html": [
       "<div>\n",
       "<style scoped>\n",
       "    .dataframe tbody tr th:only-of-type {\n",
       "        vertical-align: middle;\n",
       "    }\n",
       "\n",
       "    .dataframe tbody tr th {\n",
       "        vertical-align: top;\n",
       "    }\n",
       "\n",
       "    .dataframe thead th {\n",
       "        text-align: right;\n",
       "    }\n",
       "</style>\n",
       "<table border=\"1\" class=\"dataframe\">\n",
       "  <thead>\n",
       "    <tr style=\"text-align: right;\">\n",
       "      <th></th>\n",
       "      <th>secondsoffset</th>\n",
       "      <th>chunkThroughput</th>\n",
       "    </tr>\n",
       "  </thead>\n",
       "  <tbody>\n",
       "    <tr>\n",
       "      <th>38002</th>\n",
       "      <td>200.009419</td>\n",
       "      <td>4.432718</td>\n",
       "    </tr>\n",
       "    <tr>\n",
       "      <th>42820</th>\n",
       "      <td>225.680881</td>\n",
       "      <td>4.570540</td>\n",
       "    </tr>\n",
       "    <tr>\n",
       "      <th>49972</th>\n",
       "      <td>254.173501</td>\n",
       "      <td>4.540123</td>\n",
       "    </tr>\n",
       "    <tr>\n",
       "      <th>17687</th>\n",
       "      <td>73.010686</td>\n",
       "      <td>4.741573</td>\n",
       "    </tr>\n",
       "    <tr>\n",
       "      <th>27219</th>\n",
       "      <td>118.503594</td>\n",
       "      <td>4.368499</td>\n",
       "    </tr>\n",
       "  </tbody>\n",
       "</table>\n",
       "</div>"
      ],
      "text/plain": [
       "       secondsoffset  chunkThroughput\n",
       "38002     200.009419         4.432718\n",
       "42820     225.680881         4.570540\n",
       "49972     254.173501         4.540123\n",
       "17687      73.010686         4.741573\n",
       "27219     118.503594         4.368499"
      ]
     },
     "metadata": {},
     "output_type": "display_data"
    },
    {
     "name": "stdout",
     "output_type": "stream",
     "text": [
      "./results/client2/2017.12.21-09:04-psequential_log\n",
      "./results/client2/2017.12.21-09:04-psequential_log\n",
      "./results/client2\n",
      "./results/client2/2017.12.21-09:04-psequential_log\n"
     ]
    },
    {
     "data": {
      "text/html": [
       "<div>\n",
       "<style scoped>\n",
       "    .dataframe tbody tr th:only-of-type {\n",
       "        vertical-align: middle;\n",
       "    }\n",
       "\n",
       "    .dataframe tbody tr th {\n",
       "        vertical-align: top;\n",
       "    }\n",
       "\n",
       "    .dataframe thead th {\n",
       "        text-align: right;\n",
       "    }\n",
       "</style>\n",
       "<table border=\"1\" class=\"dataframe\">\n",
       "  <thead>\n",
       "    <tr style=\"text-align: right;\">\n",
       "      <th></th>\n",
       "      <th>secondsoffset</th>\n",
       "      <th>chunkThroughput</th>\n",
       "    </tr>\n",
       "  </thead>\n",
       "  <tbody>\n",
       "    <tr>\n",
       "      <th>49787</th>\n",
       "      <td>241.291617</td>\n",
       "      <td>4.477930</td>\n",
       "    </tr>\n",
       "    <tr>\n",
       "      <th>36172</th>\n",
       "      <td>180.237042</td>\n",
       "      <td>3.126363</td>\n",
       "    </tr>\n",
       "    <tr>\n",
       "      <th>30837</th>\n",
       "      <td>128.928933</td>\n",
       "      <td>1.832813</td>\n",
       "    </tr>\n",
       "    <tr>\n",
       "      <th>17482</th>\n",
       "      <td>65.706172</td>\n",
       "      <td>4.825605</td>\n",
       "    </tr>\n",
       "    <tr>\n",
       "      <th>58872</th>\n",
       "      <td>274.526298</td>\n",
       "      <td>4.417417</td>\n",
       "    </tr>\n",
       "  </tbody>\n",
       "</table>\n",
       "</div>"
      ],
      "text/plain": [
       "       secondsoffset  chunkThroughput\n",
       "49787     241.291617         4.477930\n",
       "36172     180.237042         3.126363\n",
       "30837     128.928933         1.832813\n",
       "17482      65.706172         4.825605\n",
       "58872     274.526298         4.417417"
      ]
     },
     "metadata": {},
     "output_type": "display_data"
    },
    {
     "name": "stdout",
     "output_type": "stream",
     "text": [
      "./gfx/ndn/ndn-scatter-segments-combined.pdf\n"
     ]
    }
   ],
   "source": [
    "import re\n",
    "def ndnChunkTroghputQuality2(PATH, fig, ax):\n",
    "    N = 5\n",
    "    for f in glob.iglob(PATH, recursive=True): # /*directoryRegExp*/ to reduce output (long runtime)\n",
    "        ! {script} {os.path.dirname(f)} {os.path.basename(f)}\n",
    "        #fig, ax = plt.subplots(1,1)\n",
    "        format_axes(ax)\n",
    "        #global df\n",
    "        df = pd.read_csv(os.path.join(os.path.dirname(f), \"{0}_out\".format(os.path.basename(f)), \"chunkThroughput\") , delim_whitespace=True ,names = ['seconds_offset', 'chunkThroughput'])\n",
    "        df.columns = map(lambda x: re.sub('_', '', x), df.columns)\n",
    "        #df['subject'] = 0\n",
    "        df = df.sample(frac=0.5)\n",
    "        title=f\n",
    "        #display(df.head())\n",
    "        ax.scatter(df[\"secondsoffset\"], df[\"chunkThroughput\"], marker='x', s=0.1, color=Accent_5.mpl_colors[1])\n",
    "        #sns.tsplot(data=df, unit='subject', interpolate=True, ci=[68, 95], time=\"secondsoffset\", value=\"chunkThroughput\")\n",
    "        ax.set_xlabel('Playback time (seconds)')\n",
    "        ax.set_ylabel('Video quality (Mbit/s)')\n",
    "        ax.set_ylim(0,6)\n",
    "        ax.set_xlim(0,200)\n",
    "        profile = read_trace_file_url('./ndn/report.2010-09-28_1407CEST.log.txt')\n",
    "        sec=profile['Increasingtime']\n",
    "        bw=profile.bitrate\n",
    "        profile\n",
    "        bw_plot = ax.plot(sec, bw, label='Bandwidth Trace')\n",
    "        \n",
    "        df = pd.read_csv(os.path.join(os.path.dirname(f), \"{0}_out\".format(os.path.basename(f)), \"quality\") , delim_whitespace=True, \n",
    "                         names = ['seconds_offset', 'useless', 'useless', 'segment_number', 'qualitylevel', 'videobitrate', 'useless', 'realbitrate'])\n",
    "\n",
    "        df.videobitrate = df.videobitrate.apply(lambda x: x * 1.00e-6) # in Mbit/s\n",
    "        df.realbitrate = df.realbitrate.apply(lambda x: x * 1.00e-6) # in Mbit/s\n",
    "        bitrate_plot = ax.plot(df.seconds_offset, df.videobitrate, 'r', label='Video Bitrate')\n",
    "        fig.tight_layout()\n",
    "        \n",
    "compPaths = [\n",
    "            ('BOLA','2017.12.22-14:41-bolasequential_log'),\n",
    "             ('Panda', '2017.12.21-11:15-pandasequential_log'),\n",
    "#             ('Extended Panda', '2017.12.22-14:08-psequential_log'),\n",
    "             ('Extended Panda', '2017.12.21-09:04-psequential_log')]\n",
    "\n",
    "size = setupfiguresthin()\n",
    "fig, axes = plt.subplots(3,2)\n",
    "fig.set_size_inches(size[0], size[1]*3)\n",
    "j = 0\n",
    "for player in compPaths:\n",
    "    for i in range(1,3):\n",
    "        list_of_files = glob.glob('./results/client{0}/{1}'.format(i, player[1])) # * means all if need specific format then *.csv\n",
    "        latest_file = sorted(list_of_files, key=os.path.getctime)[0]\n",
    "        setupfigures80()\n",
    "        axes[j][i-1].set_title('{}, Player {}'.format(player[0], i))\n",
    "        ndnChunkTroghputQuality2(latest_file, fig, axes[j][i-1])\n",
    "        #qualityPlot(PATH)\n",
    "        #bufferPlot(PATH)\n",
    "    j = j + 1\n",
    "\n",
    "axes[0][0].legend(bbox_to_anchor=(0., 1.2, 2.2, .102), loc=3,\n",
    "               ncol=4, mode=\"expand\", borderaxespad=0)\n",
    "fig.subplots_adjust(top=0.8)\n",
    "fig.savefig(getFilename('ndn-scatter-segments-combined', 'ndn'))"
   ]
  }
 ],
 "metadata": {
  "kernelspec": {
   "display_name": "Python 3",
   "language": "python",
   "name": "python3"
  },
  "language_info": {
   "codemirror_mode": {
    "name": "ipython",
    "version": 3
   },
   "file_extension": ".py",
   "mimetype": "text/x-python",
   "name": "python",
   "nbconvert_exporter": "python",
   "pygments_lexer": "ipython3",
   "version": "3.6.3"
  }
 },
 "nbformat": 4,
 "nbformat_minor": 2
}
